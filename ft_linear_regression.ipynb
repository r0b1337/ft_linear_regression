{
 "cells": [
  {
   "cell_type": "code",
   "execution_count": 7,
   "metadata": {},
   "outputs": [
    {
     "name": "stdout",
     "output_type": "stream",
     "text": [
      "[['240000', '3650'], ['139800', '3800'], ['150500', '4400'], ['185530', '4450'], ['176000', '5250'], ['114800', '5350'], ['166800', '5800'], ['89000', '5990'], ['144500', '5999'], ['84000', '6200'], ['82029', '6390'], ['63060', '6390'], ['74000', '6600'], ['97500', '6800'], ['67000', '6800'], ['76025', '6900'], ['48235', '6900'], ['93000', '6990'], ['60949', '7490'], ['65674', '7555'], ['54000', '7990'], ['68500', '7990'], ['22899', '7990'], ['61789', '8290']]\n"
     ]
    }
   ],
   "source": [
    "import csv\n",
    "\n",
    "lines = []\n",
    "\n",
    "with open('data.csv', newline='\\n') as csvfile:\n",
    "    reader = csv.reader(csvfile, delimiter=',')\n",
    "    for row in reader:\n",
    "        lines.append(row)\n",
    "    \n",
    "    lines.pop(0)\n",
    "\n",
    "print(lines)"
   ]
  },
  {
   "cell_type": "markdown",
   "metadata": {},
   "source": [
    "Now that we've gotten the CSV into the python language let's proceed with the **algorithm** !\n",
    "We declaire our parameters and learning rate :"
   ]
  },
  {
   "cell_type": "code",
   "execution_count": 8,
   "metadata": {},
   "outputs": [],
   "source": [
    "learningRate = 0.001\n",
    "theta0 = 0\n",
    "theta1 = 0\n",
    "m = len(lines)"
   ]
  },
  {
   "cell_type": "markdown",
   "metadata": {},
   "source": [
    "\n",
    "Then, we need to implement the linear function to predict the price of the car by knowing it's mileage."
   ]
  },
  {
   "cell_type": "code",
   "execution_count": 9,
   "metadata": {},
   "outputs": [],
   "source": [
    "def estimatePrice(mileage):\n",
    "    return theta0 + (theta1 * mileage)"
   ]
  },
  {
   "cell_type": "markdown",
   "metadata": {},
   "source": [
    "After that we need to implement our training function, that will perform the gradient descent to find the correct weights for our params :"
   ]
  },
  {
   "cell_type": "code",
   "execution_count": null,
   "metadata": {},
   "outputs": [],
   "source": [
    "def trainModel():\n",
    "    return"
   ]
  }
 ],
 "metadata": {
  "kernelspec": {
   "display_name": "Python 3",
   "language": "python",
   "name": "python3"
  },
  "language_info": {
   "codemirror_mode": {
    "name": "ipython",
    "version": 3
   },
   "file_extension": ".py",
   "mimetype": "text/x-python",
   "name": "python",
   "nbconvert_exporter": "python",
   "pygments_lexer": "ipython3",
   "version": "3.11.4"
  }
 },
 "nbformat": 4,
 "nbformat_minor": 2
}
