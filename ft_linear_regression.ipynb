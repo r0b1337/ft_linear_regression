{
 "cells": [
  {
   "cell_type": "code",
   "execution_count": 25,
   "metadata": {},
   "outputs": [
    {
     "name": "stdout",
     "output_type": "stream",
     "text": [
      "mileages -> [240000 139800 150500 185530 176000 114800 166800  89000 144500  84000\n",
      "  82029  63060  74000  97500  67000  76025  48235  93000  60949  65674\n",
      "  54000  68500  22899  61789]\n",
      "prices -> [3650 3800 4400 4450 5250 5350 5800 5990 5999 6200 6390 6390 6600 6800\n",
      " 6800 6900 6900 6990 7490 7555 7990 7990 7990 8290]\n",
      "mileages_scaled -> [ 2.69433217  0.75116081  0.95866514  1.6379994   1.4531848   0.26633762\n",
      "  1.27476986 -0.23399991  0.84230757 -0.33096455 -0.36918801 -0.73705246\n",
      " -0.52489383 -0.06916003 -0.66064432 -0.48562315 -1.02455261 -0.1564282\n",
      " -0.77799093 -0.68635935 -0.91275238 -0.63155493 -1.51589183 -0.76170087]\n"
     ]
    }
   ],
   "source": [
    "import pandas as pd\n",
    "import numpy as np\n",
    "\n",
    "data = pd.read_csv('data.csv')\n",
    "mileages = data['km'].values\n",
    "prices = data['price'].values\n",
    "\n",
    "print(\"mileages ->\", mileages)\n",
    "print(\"prices ->\", prices)\n",
    "\n",
    "mileages_scaled = (mileages - np.mean(mileages)) / np.std(mileages)\n",
    "\n",
    "print(\"mileages_scaled ->\", mileages_scaled)"
   ]
  },
  {
   "cell_type": "code",
   "execution_count": 26,
   "metadata": {},
   "outputs": [],
   "source": [
    "class LinearRegression:\n",
    "  def __init__(self):\n",
    "    self.theta0 = 0\n",
    "    self.theta1 = 0\n",
    "\n",
    "  def estimate_prices(self, mileages):\n",
    "    return self.theta0 + (self.theta1 * mileages)\n",
    "\n",
    "  def train_model(self, mileages, prices, learning_rate=0.01, iterations=1000):\n",
    "    m = len(mileages)\n",
    "\n",
    "    for i in range(iterations):\n",
    "      estimated_prices = self.theta0 + (self.theta1 * mileages)\n",
    "      errors = estimated_prices - prices\n",
    "\n",
    "      tmp_theta0 = (1 / m) * np.sum(errors)\n",
    "      tmp_theta1 = (1 / m) * np.sum(errors * mileages)\n",
    "\n",
    "      self.theta0 -= learning_rate * tmp_theta0\n",
    "      self.theta1 -= learning_rate * tmp_theta1"
   ]
  },
  {
   "cell_type": "code",
   "execution_count": 27,
   "metadata": {},
   "outputs": [
    {
     "name": "stdout",
     "output_type": "stream",
     "text": [
      "[  3351.70368445   7191.99626713   2064.82142766 -12948.80490157]\n"
     ]
    }
   ],
   "source": [
    "model = LinearRegression()\n",
    "model.train_model(mileages_scaled, prices)\n",
    "\n",
    "inputs_test = np.array([240000, 60949, 300000, 1000000])\n",
    "inputs_test_scaled = (inputs_test - np.mean(mileages)) / np.std(mileages)\n",
    "\n",
    "estimated_prices = model.estimate_prices(inputs_test_scaled)\n",
    "print(estimated_prices)"
   ]
  }
 ],
 "metadata": {
  "kernelspec": {
   "display_name": "Python 3",
   "language": "python",
   "name": "python3"
  },
  "language_info": {
   "codemirror_mode": {
    "name": "ipython",
    "version": 3
   },
   "file_extension": ".py",
   "mimetype": "text/x-python",
   "name": "python",
   "nbconvert_exporter": "python",
   "pygments_lexer": "ipython3",
   "version": "3.12.1"
  }
 },
 "nbformat": 4,
 "nbformat_minor": 2
}
